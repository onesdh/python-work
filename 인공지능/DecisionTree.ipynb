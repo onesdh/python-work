{
 "cells": [
  {
   "cell_type": "code",
   "execution_count": 59,
   "metadata": {},
   "outputs": [
    {
     "name": "stdout",
     "output_type": "stream",
     "text": [
      "1\n"
     ]
    }
   ],
   "source": [
    "from sklearn.tree import DecisionTreeClassifier\n",
    "from sklearn.datasets import load_iris\n",
    "from sklearn.model_selection import train_test_split\n",
    "\n",
    "iris_data = load_iris()\n",
    "train_input, test_input, train_target, test_target = train_test_split(iris_data.data, iris_data.target,test_size = 0.33)\n",
    "vr = DecisionTreeClassifier()\n",
    "vr.fit(train_input, train_target)\n",
    "print('1')"
   ]
  },
  {
   "cell_type": "code",
   "execution_count": 60,
   "metadata": {},
   "outputs": [
    {
     "name": "stdout",
     "output_type": "stream",
     "text": [
      "[1 0 1 0 0 2 2 0 2 0 2 2 0 0 1 1 2 2 2 2 1 1 0 0 2 2 2 1 2 2 2 0 2 0 1 2 0\n",
      " 2 2 1 2 1 2 2 1 2 2 0 1 2 1 1 2 1 2 2 0 0 1 1 1 1 0 2 1 0 0 2 2 0 2 0 1 0\n",
      " 2 1 2 2 2 1 0 0 0 0 0 2 1 1 0 2 2 1 1 0 0 1 2 1 1 0] [0 1 0 0 1 0 0 1 0 1 1 0 0 2 2 2 0 0 2 0 0 1 0 1 0 1 2 1 1 0 1 1 2 2 1 1 0\n",
      " 0 1 0 2 1 2 1 2 1 0 1 0 1]\n"
     ]
    }
   ],
   "source": [
    "print(train_target, test_target)"
   ]
  },
  {
   "cell_type": "code",
   "execution_count": 61,
   "metadata": {},
   "outputs": [
    {
     "name": "stdout",
     "output_type": "stream",
     "text": [
      "[1 0 1 0 0 2 2 0 2 0 2 2 0 0 1 1 2 2 2 2 1 1 0 0 2 2 2 1 2 2 2 0 2 0 1 2 0\n",
      " 2 2 1 2 1 2 2 1 2 2 0 1 2 1 1 2 1 2 2 0 0 1 1 1 1 0 2 1 0 0 2 2 0 2 0 1 0\n",
      " 2 1 2 2 2 1 0 0 0 0 0 2 1 1 0 2 2 1 1 0 0 1 2 1 1 0]\n"
     ]
    }
   ],
   "source": [
    "from sklearn.metrics import accuracy_score\n",
    "\n",
    "y_pred = vr.predict(train_input)\n",
    "print(y_pred)"
   ]
  },
  {
   "cell_type": "code",
   "execution_count": null,
   "metadata": {},
   "outputs": [],
   "source": [
    "\n"
   ]
  }
 ],
 "metadata": {
  "interpreter": {
   "hash": "b3ba2566441a7c06988d0923437866b63cedc61552a5af99d1f4fb67d367b25f"
  },
  "kernelspec": {
   "display_name": "Python 3.8.8 ('base')",
   "language": "python",
   "name": "python3"
  },
  "language_info": {
   "codemirror_mode": {
    "name": "ipython",
    "version": 3
   },
   "file_extension": ".py",
   "mimetype": "text/x-python",
   "name": "python",
   "nbconvert_exporter": "python",
   "pygments_lexer": "ipython3",
   "version": "3.8.8"
  },
  "orig_nbformat": 4
 },
 "nbformat": 4,
 "nbformat_minor": 2
}
